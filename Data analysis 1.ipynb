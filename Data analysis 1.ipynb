{
 "cells": [
  {
   "cell_type": "code",
   "execution_count": 1,
   "id": "c2c55b06",
   "metadata": {},
   "outputs": [],
   "source": [
    "import pandas as pd\n",
    "import numpy as np"
   ]
  },
  {
   "cell_type": "code",
   "execution_count": 2,
   "id": "156a0733",
   "metadata": {},
   "outputs": [],
   "source": [
    "data=pd.read_csv(r\"USA_cars_datasets.csv\")"
   ]
  },
  {
   "cell_type": "code",
   "execution_count": 3,
   "id": "b5cfe266",
   "metadata": {},
   "outputs": [
    {
     "data": {
      "text/html": [
       "<div>\n",
       "<style scoped>\n",
       "    .dataframe tbody tr th:only-of-type {\n",
       "        vertical-align: middle;\n",
       "    }\n",
       "\n",
       "    .dataframe tbody tr th {\n",
       "        vertical-align: top;\n",
       "    }\n",
       "\n",
       "    .dataframe thead th {\n",
       "        text-align: right;\n",
       "    }\n",
       "</style>\n",
       "<table border=\"1\" class=\"dataframe\">\n",
       "  <thead>\n",
       "    <tr style=\"text-align: right;\">\n",
       "      <th></th>\n",
       "      <th>Unnamed: 0</th>\n",
       "      <th>price</th>\n",
       "      <th>brand</th>\n",
       "      <th>model</th>\n",
       "      <th>year</th>\n",
       "      <th>title_status</th>\n",
       "      <th>mileage</th>\n",
       "      <th>color</th>\n",
       "      <th>vin</th>\n",
       "      <th>lot</th>\n",
       "      <th>state</th>\n",
       "      <th>country</th>\n",
       "      <th>condition</th>\n",
       "    </tr>\n",
       "  </thead>\n",
       "  <tbody>\n",
       "    <tr>\n",
       "      <th>0</th>\n",
       "      <td>0</td>\n",
       "      <td>6300</td>\n",
       "      <td>toyota</td>\n",
       "      <td>cruiser</td>\n",
       "      <td>2008</td>\n",
       "      <td>clean vehicle</td>\n",
       "      <td>274117.0</td>\n",
       "      <td>black</td>\n",
       "      <td>jtezu11f88k007763</td>\n",
       "      <td>159348797</td>\n",
       "      <td>new jersey</td>\n",
       "      <td>usa</td>\n",
       "      <td>10 days left</td>\n",
       "    </tr>\n",
       "    <tr>\n",
       "      <th>1</th>\n",
       "      <td>1</td>\n",
       "      <td>2899</td>\n",
       "      <td>ford</td>\n",
       "      <td>se</td>\n",
       "      <td>2011</td>\n",
       "      <td>clean vehicle</td>\n",
       "      <td>190552.0</td>\n",
       "      <td>silver</td>\n",
       "      <td>2fmdk3gc4bbb02217</td>\n",
       "      <td>166951262</td>\n",
       "      <td>tennessee</td>\n",
       "      <td>usa</td>\n",
       "      <td>6 days left</td>\n",
       "    </tr>\n",
       "    <tr>\n",
       "      <th>2</th>\n",
       "      <td>2</td>\n",
       "      <td>5350</td>\n",
       "      <td>dodge</td>\n",
       "      <td>mpv</td>\n",
       "      <td>2018</td>\n",
       "      <td>clean vehicle</td>\n",
       "      <td>39590.0</td>\n",
       "      <td>silver</td>\n",
       "      <td>3c4pdcgg5jt346413</td>\n",
       "      <td>167655728</td>\n",
       "      <td>georgia</td>\n",
       "      <td>usa</td>\n",
       "      <td>2 days left</td>\n",
       "    </tr>\n",
       "    <tr>\n",
       "      <th>3</th>\n",
       "      <td>3</td>\n",
       "      <td>25000</td>\n",
       "      <td>ford</td>\n",
       "      <td>door</td>\n",
       "      <td>2014</td>\n",
       "      <td>clean vehicle</td>\n",
       "      <td>64146.0</td>\n",
       "      <td>blue</td>\n",
       "      <td>1ftfw1et4efc23745</td>\n",
       "      <td>167753855</td>\n",
       "      <td>virginia</td>\n",
       "      <td>usa</td>\n",
       "      <td>22 hours left</td>\n",
       "    </tr>\n",
       "    <tr>\n",
       "      <th>4</th>\n",
       "      <td>4</td>\n",
       "      <td>27700</td>\n",
       "      <td>chevrolet</td>\n",
       "      <td>1500</td>\n",
       "      <td>2018</td>\n",
       "      <td>clean vehicle</td>\n",
       "      <td>6654.0</td>\n",
       "      <td>red</td>\n",
       "      <td>3gcpcrec2jg473991</td>\n",
       "      <td>167763266</td>\n",
       "      <td>florida</td>\n",
       "      <td>usa</td>\n",
       "      <td>22 hours left</td>\n",
       "    </tr>\n",
       "    <tr>\n",
       "      <th>...</th>\n",
       "      <td>...</td>\n",
       "      <td>...</td>\n",
       "      <td>...</td>\n",
       "      <td>...</td>\n",
       "      <td>...</td>\n",
       "      <td>...</td>\n",
       "      <td>...</td>\n",
       "      <td>...</td>\n",
       "      <td>...</td>\n",
       "      <td>...</td>\n",
       "      <td>...</td>\n",
       "      <td>...</td>\n",
       "      <td>...</td>\n",
       "    </tr>\n",
       "    <tr>\n",
       "      <th>2494</th>\n",
       "      <td>2494</td>\n",
       "      <td>7800</td>\n",
       "      <td>nissan</td>\n",
       "      <td>versa</td>\n",
       "      <td>2019</td>\n",
       "      <td>clean vehicle</td>\n",
       "      <td>23609.0</td>\n",
       "      <td>red</td>\n",
       "      <td>3n1cn7ap9kl880319</td>\n",
       "      <td>167722715</td>\n",
       "      <td>california</td>\n",
       "      <td>usa</td>\n",
       "      <td>1 days left</td>\n",
       "    </tr>\n",
       "    <tr>\n",
       "      <th>2495</th>\n",
       "      <td>2495</td>\n",
       "      <td>9200</td>\n",
       "      <td>nissan</td>\n",
       "      <td>versa</td>\n",
       "      <td>2018</td>\n",
       "      <td>clean vehicle</td>\n",
       "      <td>34553.0</td>\n",
       "      <td>silver</td>\n",
       "      <td>3n1cn7ap5jl884088</td>\n",
       "      <td>167762225</td>\n",
       "      <td>florida</td>\n",
       "      <td>usa</td>\n",
       "      <td>21 hours left</td>\n",
       "    </tr>\n",
       "    <tr>\n",
       "      <th>2496</th>\n",
       "      <td>2496</td>\n",
       "      <td>9200</td>\n",
       "      <td>nissan</td>\n",
       "      <td>versa</td>\n",
       "      <td>2018</td>\n",
       "      <td>clean vehicle</td>\n",
       "      <td>31594.0</td>\n",
       "      <td>silver</td>\n",
       "      <td>3n1cn7ap9jl884191</td>\n",
       "      <td>167762226</td>\n",
       "      <td>florida</td>\n",
       "      <td>usa</td>\n",
       "      <td>21 hours left</td>\n",
       "    </tr>\n",
       "    <tr>\n",
       "      <th>2497</th>\n",
       "      <td>2497</td>\n",
       "      <td>9200</td>\n",
       "      <td>nissan</td>\n",
       "      <td>versa</td>\n",
       "      <td>2018</td>\n",
       "      <td>clean vehicle</td>\n",
       "      <td>32557.0</td>\n",
       "      <td>black</td>\n",
       "      <td>3n1cn7ap3jl883263</td>\n",
       "      <td>167762227</td>\n",
       "      <td>florida</td>\n",
       "      <td>usa</td>\n",
       "      <td>2 days left</td>\n",
       "    </tr>\n",
       "    <tr>\n",
       "      <th>2498</th>\n",
       "      <td>2498</td>\n",
       "      <td>9200</td>\n",
       "      <td>nissan</td>\n",
       "      <td>versa</td>\n",
       "      <td>2018</td>\n",
       "      <td>clean vehicle</td>\n",
       "      <td>31371.0</td>\n",
       "      <td>silver</td>\n",
       "      <td>3n1cn7ap4jl884311</td>\n",
       "      <td>167762228</td>\n",
       "      <td>florida</td>\n",
       "      <td>usa</td>\n",
       "      <td>21 hours left</td>\n",
       "    </tr>\n",
       "  </tbody>\n",
       "</table>\n",
       "<p>2499 rows × 13 columns</p>\n",
       "</div>"
      ],
      "text/plain": [
       "      Unnamed: 0  price      brand    model  year   title_status   mileage  \\\n",
       "0              0   6300     toyota  cruiser  2008  clean vehicle  274117.0   \n",
       "1              1   2899       ford       se  2011  clean vehicle  190552.0   \n",
       "2              2   5350      dodge      mpv  2018  clean vehicle   39590.0   \n",
       "3              3  25000       ford     door  2014  clean vehicle   64146.0   \n",
       "4              4  27700  chevrolet     1500  2018  clean vehicle    6654.0   \n",
       "...          ...    ...        ...      ...   ...            ...       ...   \n",
       "2494        2494   7800     nissan    versa  2019  clean vehicle   23609.0   \n",
       "2495        2495   9200     nissan    versa  2018  clean vehicle   34553.0   \n",
       "2496        2496   9200     nissan    versa  2018  clean vehicle   31594.0   \n",
       "2497        2497   9200     nissan    versa  2018  clean vehicle   32557.0   \n",
       "2498        2498   9200     nissan    versa  2018  clean vehicle   31371.0   \n",
       "\n",
       "       color                  vin        lot       state country  \\\n",
       "0      black    jtezu11f88k007763  159348797  new jersey     usa   \n",
       "1     silver    2fmdk3gc4bbb02217  166951262   tennessee     usa   \n",
       "2     silver    3c4pdcgg5jt346413  167655728     georgia     usa   \n",
       "3       blue    1ftfw1et4efc23745  167753855    virginia     usa   \n",
       "4        red    3gcpcrec2jg473991  167763266     florida     usa   \n",
       "...      ...                  ...        ...         ...     ...   \n",
       "2494     red    3n1cn7ap9kl880319  167722715  california     usa   \n",
       "2495  silver    3n1cn7ap5jl884088  167762225     florida     usa   \n",
       "2496  silver    3n1cn7ap9jl884191  167762226     florida     usa   \n",
       "2497   black    3n1cn7ap3jl883263  167762227     florida     usa   \n",
       "2498  silver    3n1cn7ap4jl884311  167762228     florida     usa   \n",
       "\n",
       "          condition  \n",
       "0      10 days left  \n",
       "1       6 days left  \n",
       "2       2 days left  \n",
       "3     22 hours left  \n",
       "4     22 hours left  \n",
       "...             ...  \n",
       "2494    1 days left  \n",
       "2495  21 hours left  \n",
       "2496  21 hours left  \n",
       "2497    2 days left  \n",
       "2498  21 hours left  \n",
       "\n",
       "[2499 rows x 13 columns]"
      ]
     },
     "execution_count": 3,
     "metadata": {},
     "output_type": "execute_result"
    }
   ],
   "source": [
    "data"
   ]
  },
  {
   "cell_type": "code",
   "execution_count": 4,
   "id": "1d0b30fd",
   "metadata": {},
   "outputs": [
    {
     "name": "stdout",
     "output_type": "stream",
     "text": [
      "<class 'pandas.core.frame.DataFrame'>\n",
      "RangeIndex: 2499 entries, 0 to 2498\n",
      "Data columns (total 13 columns):\n",
      " #   Column        Non-Null Count  Dtype  \n",
      "---  ------        --------------  -----  \n",
      " 0   Unnamed: 0    2499 non-null   int64  \n",
      " 1   price         2499 non-null   int64  \n",
      " 2   brand         2499 non-null   object \n",
      " 3   model         2499 non-null   object \n",
      " 4   year          2499 non-null   int64  \n",
      " 5   title_status  2499 non-null   object \n",
      " 6   mileage       2499 non-null   float64\n",
      " 7   color         2499 non-null   object \n",
      " 8   vin           2499 non-null   object \n",
      " 9   lot           2499 non-null   int64  \n",
      " 10  state         2499 non-null   object \n",
      " 11  country       2499 non-null   object \n",
      " 12  condition     2499 non-null   object \n",
      "dtypes: float64(1), int64(4), object(8)\n",
      "memory usage: 253.9+ KB\n"
     ]
    }
   ],
   "source": [
    "data.info()"
   ]
  },
  {
   "cell_type": "code",
   "execution_count": 5,
   "id": "6f06623f",
   "metadata": {},
   "outputs": [
    {
     "data": {
      "text/html": [
       "<div>\n",
       "<style scoped>\n",
       "    .dataframe tbody tr th:only-of-type {\n",
       "        vertical-align: middle;\n",
       "    }\n",
       "\n",
       "    .dataframe tbody tr th {\n",
       "        vertical-align: top;\n",
       "    }\n",
       "\n",
       "    .dataframe thead th {\n",
       "        text-align: right;\n",
       "    }\n",
       "</style>\n",
       "<table border=\"1\" class=\"dataframe\">\n",
       "  <thead>\n",
       "    <tr style=\"text-align: right;\">\n",
       "      <th></th>\n",
       "      <th>Unnamed: 0</th>\n",
       "      <th>price</th>\n",
       "      <th>year</th>\n",
       "      <th>mileage</th>\n",
       "      <th>lot</th>\n",
       "    </tr>\n",
       "  </thead>\n",
       "  <tbody>\n",
       "    <tr>\n",
       "      <th>count</th>\n",
       "      <td>2499.000000</td>\n",
       "      <td>2499.000000</td>\n",
       "      <td>2499.000000</td>\n",
       "      <td>2.499000e+03</td>\n",
       "      <td>2.499000e+03</td>\n",
       "    </tr>\n",
       "    <tr>\n",
       "      <th>mean</th>\n",
       "      <td>1249.000000</td>\n",
       "      <td>18767.671469</td>\n",
       "      <td>2016.714286</td>\n",
       "      <td>5.229869e+04</td>\n",
       "      <td>1.676914e+08</td>\n",
       "    </tr>\n",
       "    <tr>\n",
       "      <th>std</th>\n",
       "      <td>721.543484</td>\n",
       "      <td>12116.094936</td>\n",
       "      <td>3.442656</td>\n",
       "      <td>5.970552e+04</td>\n",
       "      <td>2.038772e+05</td>\n",
       "    </tr>\n",
       "    <tr>\n",
       "      <th>min</th>\n",
       "      <td>0.000000</td>\n",
       "      <td>0.000000</td>\n",
       "      <td>1973.000000</td>\n",
       "      <td>0.000000e+00</td>\n",
       "      <td>1.593488e+08</td>\n",
       "    </tr>\n",
       "    <tr>\n",
       "      <th>25%</th>\n",
       "      <td>624.500000</td>\n",
       "      <td>10200.000000</td>\n",
       "      <td>2016.000000</td>\n",
       "      <td>2.146650e+04</td>\n",
       "      <td>1.676253e+08</td>\n",
       "    </tr>\n",
       "    <tr>\n",
       "      <th>50%</th>\n",
       "      <td>1249.000000</td>\n",
       "      <td>16900.000000</td>\n",
       "      <td>2018.000000</td>\n",
       "      <td>3.536500e+04</td>\n",
       "      <td>1.677451e+08</td>\n",
       "    </tr>\n",
       "    <tr>\n",
       "      <th>75%</th>\n",
       "      <td>1873.500000</td>\n",
       "      <td>25555.500000</td>\n",
       "      <td>2019.000000</td>\n",
       "      <td>6.347250e+04</td>\n",
       "      <td>1.677798e+08</td>\n",
       "    </tr>\n",
       "    <tr>\n",
       "      <th>max</th>\n",
       "      <td>2498.000000</td>\n",
       "      <td>84900.000000</td>\n",
       "      <td>2020.000000</td>\n",
       "      <td>1.017936e+06</td>\n",
       "      <td>1.678055e+08</td>\n",
       "    </tr>\n",
       "  </tbody>\n",
       "</table>\n",
       "</div>"
      ],
      "text/plain": [
       "        Unnamed: 0         price         year       mileage           lot\n",
       "count  2499.000000   2499.000000  2499.000000  2.499000e+03  2.499000e+03\n",
       "mean   1249.000000  18767.671469  2016.714286  5.229869e+04  1.676914e+08\n",
       "std     721.543484  12116.094936     3.442656  5.970552e+04  2.038772e+05\n",
       "min       0.000000      0.000000  1973.000000  0.000000e+00  1.593488e+08\n",
       "25%     624.500000  10200.000000  2016.000000  2.146650e+04  1.676253e+08\n",
       "50%    1249.000000  16900.000000  2018.000000  3.536500e+04  1.677451e+08\n",
       "75%    1873.500000  25555.500000  2019.000000  6.347250e+04  1.677798e+08\n",
       "max    2498.000000  84900.000000  2020.000000  1.017936e+06  1.678055e+08"
      ]
     },
     "execution_count": 5,
     "metadata": {},
     "output_type": "execute_result"
    }
   ],
   "source": [
    "data.describe()"
   ]
  },
  {
   "cell_type": "code",
   "execution_count": 6,
   "id": "5a67116e",
   "metadata": {},
   "outputs": [
    {
     "data": {
      "text/plain": [
       "(2499, 13)"
      ]
     },
     "execution_count": 6,
     "metadata": {},
     "output_type": "execute_result"
    }
   ],
   "source": [
    "data.shape"
   ]
  },
  {
   "cell_type": "code",
   "execution_count": 7,
   "id": "cb480d1e",
   "metadata": {},
   "outputs": [
    {
     "data": {
      "text/plain": [
       "Unnamed: 0      0\n",
       "price           0\n",
       "brand           0\n",
       "model           0\n",
       "year            0\n",
       "title_status    0\n",
       "mileage         0\n",
       "color           0\n",
       "vin             0\n",
       "lot             0\n",
       "state           0\n",
       "country         0\n",
       "condition       0\n",
       "dtype: int64"
      ]
     },
     "execution_count": 7,
     "metadata": {},
     "output_type": "execute_result"
    }
   ],
   "source": [
    "data.isnull().sum()"
   ]
  },
  {
   "cell_type": "code",
   "execution_count": 8,
   "id": "8aca5879",
   "metadata": {},
   "outputs": [
    {
     "data": {
      "text/plain": [
       "Index(['Unnamed: 0', 'price', 'brand', 'model', 'year', 'title_status',\n",
       "       'mileage', 'color', 'vin', 'lot', 'state', 'country', 'condition'],\n",
       "      dtype='object')"
      ]
     },
     "execution_count": 8,
     "metadata": {},
     "output_type": "execute_result"
    }
   ],
   "source": [
    "data.columns"
   ]
  },
  {
   "cell_type": "code",
   "execution_count": 9,
   "id": "dcd7c7f8",
   "metadata": {},
   "outputs": [
    {
     "data": {
      "text/plain": [
       "ford               1235\n",
       "dodge               432\n",
       "nissan              312\n",
       "chevrolet           297\n",
       "gmc                  42\n",
       "jeep                 30\n",
       "chrysler             18\n",
       "bmw                  17\n",
       "hyundai              15\n",
       "kia                  13\n",
       "buick                13\n",
       "infiniti             12\n",
       "honda                12\n",
       "cadillac             10\n",
       "mercedes-benz        10\n",
       "heartland             5\n",
       "land                  4\n",
       "peterbilt             4\n",
       "audi                  4\n",
       "acura                 3\n",
       "lincoln               2\n",
       "lexus                 2\n",
       "mazda                 2\n",
       "maserati              1\n",
       "toyota                1\n",
       "harley-davidson       1\n",
       "jaguar                1\n",
       "ram                   1\n",
       "Name: brand, dtype: int64"
      ]
     },
     "execution_count": 9,
     "metadata": {},
     "output_type": "execute_result"
    }
   ],
   "source": [
    "data['brand'].value_counts()"
   ]
  },
  {
   "cell_type": "markdown",
   "id": "3cdaffc7",
   "metadata": {},
   "source": [
    "# Top 5 brands of cars"
   ]
  },
  {
   "cell_type": "code",
   "execution_count": 10,
   "id": "c5ed688e",
   "metadata": {},
   "outputs": [
    {
     "data": {
      "text/plain": [
       "ford         1235\n",
       "dodge         432\n",
       "nissan        312\n",
       "chevrolet     297\n",
       "gmc            42\n",
       "Name: brand, dtype: int64"
      ]
     },
     "execution_count": 10,
     "metadata": {},
     "output_type": "execute_result"
    }
   ],
   "source": [
    "data['brand'].value_counts().head(5)"
   ]
  },
  {
   "cell_type": "markdown",
   "id": "b9b726cb",
   "metadata": {},
   "source": [
    "# data of 2020"
   ]
  },
  {
   "cell_type": "code",
   "execution_count": null,
   "id": "964149f1",
   "metadata": {},
   "outputs": [],
   "source": []
  },
  {
   "cell_type": "code",
   "execution_count": 19,
   "id": "d9987b09",
   "metadata": {},
   "outputs": [
    {
     "data": {
      "text/plain": [
       "2019    892\n",
       "2018    395\n",
       "2017    377\n",
       "2016    203\n",
       "2015    196\n",
       "2014    104\n",
       "2013     86\n",
       "2012     72\n",
       "2020     48\n",
       "2011     23\n",
       "2008     18\n",
       "2010     13\n",
       "2009     11\n",
       "2003      9\n",
       "2006      8\n",
       "2004      6\n",
       "2007      6\n",
       "2005      6\n",
       "2001      5\n",
       "1998      4\n",
       "2000      4\n",
       "2002      2\n",
       "1994      2\n",
       "1997      2\n",
       "1996      2\n",
       "1973      1\n",
       "1999      1\n",
       "1984      1\n",
       "1995      1\n",
       "1993      1\n",
       "Name: year, dtype: int64"
      ]
     },
     "execution_count": 19,
     "metadata": {},
     "output_type": "execute_result"
    }
   ],
   "source": [
    "data['year'].value_counts()"
   ]
  },
  {
   "cell_type": "code",
   "execution_count": 21,
   "id": "5485d9f6",
   "metadata": {},
   "outputs": [
    {
     "data": {
      "text/html": [
       "<div>\n",
       "<style scoped>\n",
       "    .dataframe tbody tr th:only-of-type {\n",
       "        vertical-align: middle;\n",
       "    }\n",
       "\n",
       "    .dataframe tbody tr th {\n",
       "        vertical-align: top;\n",
       "    }\n",
       "\n",
       "    .dataframe thead th {\n",
       "        text-align: right;\n",
       "    }\n",
       "</style>\n",
       "<table border=\"1\" class=\"dataframe\">\n",
       "  <thead>\n",
       "    <tr style=\"text-align: right;\">\n",
       "      <th></th>\n",
       "      <th>Unnamed: 0</th>\n",
       "      <th>price</th>\n",
       "      <th>brand</th>\n",
       "      <th>model</th>\n",
       "      <th>year</th>\n",
       "      <th>title_status</th>\n",
       "      <th>mileage</th>\n",
       "      <th>color</th>\n",
       "      <th>vin</th>\n",
       "      <th>lot</th>\n",
       "      <th>state</th>\n",
       "      <th>country</th>\n",
       "      <th>condition</th>\n",
       "    </tr>\n",
       "  </thead>\n",
       "  <tbody>\n",
       "    <tr>\n",
       "      <th>26</th>\n",
       "      <td>26</td>\n",
       "      <td>21500</td>\n",
       "      <td>kia</td>\n",
       "      <td>sorento</td>\n",
       "      <td>2020</td>\n",
       "      <td>clean vehicle</td>\n",
       "      <td>11451.0</td>\n",
       "      <td>blue</td>\n",
       "      <td>5xypg4a59lg616029</td>\n",
       "      <td>167801828</td>\n",
       "      <td>north carolina</td>\n",
       "      <td>usa</td>\n",
       "      <td>2 days left</td>\n",
       "    </tr>\n",
       "    <tr>\n",
       "      <th>58</th>\n",
       "      <td>58</td>\n",
       "      <td>23000</td>\n",
       "      <td>chrysler</td>\n",
       "      <td>pacifica</td>\n",
       "      <td>2020</td>\n",
       "      <td>clean vehicle</td>\n",
       "      <td>2473.0</td>\n",
       "      <td>white</td>\n",
       "      <td>2c4rc1fg5lr143335</td>\n",
       "      <td>167656205</td>\n",
       "      <td>ohio</td>\n",
       "      <td>usa</td>\n",
       "      <td>2 days left</td>\n",
       "    </tr>\n",
       "    <tr>\n",
       "      <th>206</th>\n",
       "      <td>206</td>\n",
       "      <td>25</td>\n",
       "      <td>chevrolet</td>\n",
       "      <td>vehicl</td>\n",
       "      <td>2020</td>\n",
       "      <td>salvage insurance</td>\n",
       "      <td>7232.0</td>\n",
       "      <td>black</td>\n",
       "      <td>2gnaxkev6l6128374</td>\n",
       "      <td>167756877</td>\n",
       "      <td>kentucky</td>\n",
       "      <td>usa</td>\n",
       "      <td>3 days left</td>\n",
       "    </tr>\n",
       "    <tr>\n",
       "      <th>210</th>\n",
       "      <td>210</td>\n",
       "      <td>22500</td>\n",
       "      <td>chevrolet</td>\n",
       "      <td>camaro</td>\n",
       "      <td>2020</td>\n",
       "      <td>clean vehicle</td>\n",
       "      <td>13826.0</td>\n",
       "      <td>green</td>\n",
       "      <td>1g1fb1rx6l0109117</td>\n",
       "      <td>167765992</td>\n",
       "      <td>georgia</td>\n",
       "      <td>usa</td>\n",
       "      <td>3 days left</td>\n",
       "    </tr>\n",
       "    <tr>\n",
       "      <th>213</th>\n",
       "      <td>213</td>\n",
       "      <td>15500</td>\n",
       "      <td>chevrolet</td>\n",
       "      <td>trax</td>\n",
       "      <td>2020</td>\n",
       "      <td>clean vehicle</td>\n",
       "      <td>16545.0</td>\n",
       "      <td>white</td>\n",
       "      <td>3gncjlsb1ll142267</td>\n",
       "      <td>167765995</td>\n",
       "      <td>georgia</td>\n",
       "      <td>usa</td>\n",
       "      <td>3 days left</td>\n",
       "    </tr>\n",
       "    <tr>\n",
       "      <th>216</th>\n",
       "      <td>216</td>\n",
       "      <td>45500</td>\n",
       "      <td>chevrolet</td>\n",
       "      <td>tahoe</td>\n",
       "      <td>2020</td>\n",
       "      <td>clean vehicle</td>\n",
       "      <td>13303.0</td>\n",
       "      <td>white</td>\n",
       "      <td>1gnscbkc4lr164829</td>\n",
       "      <td>167765997</td>\n",
       "      <td>georgia</td>\n",
       "      <td>usa</td>\n",
       "      <td>3 days left</td>\n",
       "    </tr>\n",
       "    <tr>\n",
       "      <th>219</th>\n",
       "      <td>219</td>\n",
       "      <td>45500</td>\n",
       "      <td>chevrolet</td>\n",
       "      <td>tahoe</td>\n",
       "      <td>2020</td>\n",
       "      <td>clean vehicle</td>\n",
       "      <td>13679.0</td>\n",
       "      <td>gray</td>\n",
       "      <td>1gnscbkcxlr162857</td>\n",
       "      <td>167765999</td>\n",
       "      <td>georgia</td>\n",
       "      <td>usa</td>\n",
       "      <td>3 days left</td>\n",
       "    </tr>\n",
       "    <tr>\n",
       "      <th>222</th>\n",
       "      <td>222</td>\n",
       "      <td>16300</td>\n",
       "      <td>chevrolet</td>\n",
       "      <td>trax</td>\n",
       "      <td>2020</td>\n",
       "      <td>clean vehicle</td>\n",
       "      <td>18221.0</td>\n",
       "      <td>white</td>\n",
       "      <td>3gncjlsb4ll149763</td>\n",
       "      <td>167766003</td>\n",
       "      <td>georgia</td>\n",
       "      <td>usa</td>\n",
       "      <td>3 days left</td>\n",
       "    </tr>\n",
       "    <tr>\n",
       "      <th>225</th>\n",
       "      <td>225</td>\n",
       "      <td>45500</td>\n",
       "      <td>chevrolet</td>\n",
       "      <td>tahoe</td>\n",
       "      <td>2020</td>\n",
       "      <td>clean vehicle</td>\n",
       "      <td>13885.0</td>\n",
       "      <td>white</td>\n",
       "      <td>1gnscbkc6lr159535</td>\n",
       "      <td>167766009</td>\n",
       "      <td>georgia</td>\n",
       "      <td>usa</td>\n",
       "      <td>3 days left</td>\n",
       "    </tr>\n",
       "    <tr>\n",
       "      <th>399</th>\n",
       "      <td>399</td>\n",
       "      <td>61200</td>\n",
       "      <td>bmw</td>\n",
       "      <td>series</td>\n",
       "      <td>2020</td>\n",
       "      <td>clean vehicle</td>\n",
       "      <td>7509.0</td>\n",
       "      <td>black</td>\n",
       "      <td>wba7t2c04lgl17687</td>\n",
       "      <td>167417053</td>\n",
       "      <td>california</td>\n",
       "      <td>usa</td>\n",
       "      <td>7 days left</td>\n",
       "    </tr>\n",
       "    <tr>\n",
       "      <th>426</th>\n",
       "      <td>426</td>\n",
       "      <td>55600</td>\n",
       "      <td>lexus</td>\n",
       "      <td>gx</td>\n",
       "      <td>2020</td>\n",
       "      <td>clean vehicle</td>\n",
       "      <td>8186.0</td>\n",
       "      <td>silver</td>\n",
       "      <td>jtjam7bx4l5251250</td>\n",
       "      <td>167605747</td>\n",
       "      <td>florida</td>\n",
       "      <td>usa</td>\n",
       "      <td>2 days left</td>\n",
       "    </tr>\n",
       "    <tr>\n",
       "      <th>657</th>\n",
       "      <td>657</td>\n",
       "      <td>22000</td>\n",
       "      <td>chevrolet</td>\n",
       "      <td>trax</td>\n",
       "      <td>2020</td>\n",
       "      <td>clean vehicle</td>\n",
       "      <td>179.0</td>\n",
       "      <td>gray</td>\n",
       "      <td>3gncjksbxll181398</td>\n",
       "      <td>167781406</td>\n",
       "      <td>california</td>\n",
       "      <td>usa</td>\n",
       "      <td>21 hours left</td>\n",
       "    </tr>\n",
       "    <tr>\n",
       "      <th>729</th>\n",
       "      <td>729</td>\n",
       "      <td>17300</td>\n",
       "      <td>chevrolet</td>\n",
       "      <td>equinox</td>\n",
       "      <td>2020</td>\n",
       "      <td>clean vehicle</td>\n",
       "      <td>15577.0</td>\n",
       "      <td>black</td>\n",
       "      <td>3gnaxkev2ll125886</td>\n",
       "      <td>167796069</td>\n",
       "      <td>nevada</td>\n",
       "      <td>usa</td>\n",
       "      <td>2 days left</td>\n",
       "    </tr>\n",
       "    <tr>\n",
       "      <th>730</th>\n",
       "      <td>730</td>\n",
       "      <td>30500</td>\n",
       "      <td>chevrolet</td>\n",
       "      <td>traverse</td>\n",
       "      <td>2020</td>\n",
       "      <td>clean vehicle</td>\n",
       "      <td>23470.0</td>\n",
       "      <td>silver</td>\n",
       "      <td>1gnerhkw7lj115518</td>\n",
       "      <td>167796080</td>\n",
       "      <td>nevada</td>\n",
       "      <td>usa</td>\n",
       "      <td>2 days left</td>\n",
       "    </tr>\n",
       "    <tr>\n",
       "      <th>731</th>\n",
       "      <td>731</td>\n",
       "      <td>25000</td>\n",
       "      <td>chevrolet</td>\n",
       "      <td>impala</td>\n",
       "      <td>2020</td>\n",
       "      <td>clean vehicle</td>\n",
       "      <td>18715.0</td>\n",
       "      <td>silver</td>\n",
       "      <td>1g1105s31lu100901</td>\n",
       "      <td>167796081</td>\n",
       "      <td>nevada</td>\n",
       "      <td>usa</td>\n",
       "      <td>6 hours left</td>\n",
       "    </tr>\n",
       "    <tr>\n",
       "      <th>806</th>\n",
       "      <td>806</td>\n",
       "      <td>28300</td>\n",
       "      <td>chevrolet</td>\n",
       "      <td>colorado</td>\n",
       "      <td>2020</td>\n",
       "      <td>clean vehicle</td>\n",
       "      <td>13886.0</td>\n",
       "      <td>silver</td>\n",
       "      <td>1gcgtcen7l1101496</td>\n",
       "      <td>167805497</td>\n",
       "      <td>indiana</td>\n",
       "      <td>usa</td>\n",
       "      <td>2 days left</td>\n",
       "    </tr>\n",
       "    <tr>\n",
       "      <th>1064</th>\n",
       "      <td>1064</td>\n",
       "      <td>15900</td>\n",
       "      <td>dodge</td>\n",
       "      <td>charger</td>\n",
       "      <td>2020</td>\n",
       "      <td>clean vehicle</td>\n",
       "      <td>5284.0</td>\n",
       "      <td>orange</td>\n",
       "      <td>2c3cdxbg6lh100855</td>\n",
       "      <td>167742943</td>\n",
       "      <td>pennsylvania</td>\n",
       "      <td>usa</td>\n",
       "      <td>2 days left</td>\n",
       "    </tr>\n",
       "    <tr>\n",
       "      <th>1217</th>\n",
       "      <td>1217</td>\n",
       "      <td>32500</td>\n",
       "      <td>ford</td>\n",
       "      <td>explorer</td>\n",
       "      <td>2020</td>\n",
       "      <td>clean vehicle</td>\n",
       "      <td>5920.0</td>\n",
       "      <td>silver</td>\n",
       "      <td>1fmsk8dh2lga15480</td>\n",
       "      <td>167722215</td>\n",
       "      <td>missouri</td>\n",
       "      <td>usa</td>\n",
       "      <td>21 hours left</td>\n",
       "    </tr>\n",
       "    <tr>\n",
       "      <th>1220</th>\n",
       "      <td>1220</td>\n",
       "      <td>18300</td>\n",
       "      <td>ford</td>\n",
       "      <td>fusion</td>\n",
       "      <td>2020</td>\n",
       "      <td>clean vehicle</td>\n",
       "      <td>10882.0</td>\n",
       "      <td>white</td>\n",
       "      <td>3fa6p0d94lr133238</td>\n",
       "      <td>167722427</td>\n",
       "      <td>california</td>\n",
       "      <td>usa</td>\n",
       "      <td>1 days left</td>\n",
       "    </tr>\n",
       "    <tr>\n",
       "      <th>1229</th>\n",
       "      <td>1229</td>\n",
       "      <td>14300</td>\n",
       "      <td>ford</td>\n",
       "      <td>fusion</td>\n",
       "      <td>2020</td>\n",
       "      <td>clean vehicle</td>\n",
       "      <td>6975.0</td>\n",
       "      <td>silver</td>\n",
       "      <td>3fa6p0d98lr117690</td>\n",
       "      <td>167722616</td>\n",
       "      <td>california</td>\n",
       "      <td>usa</td>\n",
       "      <td>1 days left</td>\n",
       "    </tr>\n",
       "    <tr>\n",
       "      <th>1387</th>\n",
       "      <td>1387</td>\n",
       "      <td>16400</td>\n",
       "      <td>ford</td>\n",
       "      <td>f-150</td>\n",
       "      <td>2020</td>\n",
       "      <td>clean vehicle</td>\n",
       "      <td>10351.0</td>\n",
       "      <td>black</td>\n",
       "      <td>1ftew1e57lfa24246</td>\n",
       "      <td>167742924</td>\n",
       "      <td>pennsylvania</td>\n",
       "      <td>usa</td>\n",
       "      <td>2 days left</td>\n",
       "    </tr>\n",
       "    <tr>\n",
       "      <th>1388</th>\n",
       "      <td>1388</td>\n",
       "      <td>17000</td>\n",
       "      <td>ford</td>\n",
       "      <td>fusion</td>\n",
       "      <td>2020</td>\n",
       "      <td>clean vehicle</td>\n",
       "      <td>1117.0</td>\n",
       "      <td>gray</td>\n",
       "      <td>3fa6p0d98lr194138</td>\n",
       "      <td>167742945</td>\n",
       "      <td>pennsylvania</td>\n",
       "      <td>usa</td>\n",
       "      <td>2 days left</td>\n",
       "    </tr>\n",
       "    <tr>\n",
       "      <th>1396</th>\n",
       "      <td>1396</td>\n",
       "      <td>18200</td>\n",
       "      <td>ford</td>\n",
       "      <td>fusion</td>\n",
       "      <td>2020</td>\n",
       "      <td>clean vehicle</td>\n",
       "      <td>9861.0</td>\n",
       "      <td>black</td>\n",
       "      <td>3fa6p0k98lr118096</td>\n",
       "      <td>167743129</td>\n",
       "      <td>pennsylvania</td>\n",
       "      <td>usa</td>\n",
       "      <td>2 days left</td>\n",
       "    </tr>\n",
       "    <tr>\n",
       "      <th>1400</th>\n",
       "      <td>1400</td>\n",
       "      <td>26500</td>\n",
       "      <td>ford</td>\n",
       "      <td>van</td>\n",
       "      <td>2020</td>\n",
       "      <td>clean vehicle</td>\n",
       "      <td>122.0</td>\n",
       "      <td>white</td>\n",
       "      <td>1ftbr1c86lka43630</td>\n",
       "      <td>167743139</td>\n",
       "      <td>pennsylvania</td>\n",
       "      <td>usa</td>\n",
       "      <td>2 days left</td>\n",
       "    </tr>\n",
       "    <tr>\n",
       "      <th>1638</th>\n",
       "      <td>1638</td>\n",
       "      <td>20000</td>\n",
       "      <td>ford</td>\n",
       "      <td>fusion</td>\n",
       "      <td>2020</td>\n",
       "      <td>clean vehicle</td>\n",
       "      <td>23984.0</td>\n",
       "      <td>silver</td>\n",
       "      <td>3fa6p0cd0lr116667</td>\n",
       "      <td>167569992</td>\n",
       "      <td>virginia</td>\n",
       "      <td>usa</td>\n",
       "      <td>2 days left</td>\n",
       "    </tr>\n",
       "    <tr>\n",
       "      <th>1640</th>\n",
       "      <td>1640</td>\n",
       "      <td>27000</td>\n",
       "      <td>ford</td>\n",
       "      <td>mustang</td>\n",
       "      <td>2020</td>\n",
       "      <td>clean vehicle</td>\n",
       "      <td>12748.0</td>\n",
       "      <td>red</td>\n",
       "      <td>1fatp8uh3l5101487</td>\n",
       "      <td>167569997</td>\n",
       "      <td>virginia</td>\n",
       "      <td>usa</td>\n",
       "      <td>2 days left</td>\n",
       "    </tr>\n",
       "    <tr>\n",
       "      <th>1642</th>\n",
       "      <td>1642</td>\n",
       "      <td>20600</td>\n",
       "      <td>ford</td>\n",
       "      <td>fusion</td>\n",
       "      <td>2020</td>\n",
       "      <td>clean vehicle</td>\n",
       "      <td>17858.0</td>\n",
       "      <td>black</td>\n",
       "      <td>3fa6p0cd8lr115427</td>\n",
       "      <td>167570001</td>\n",
       "      <td>virginia</td>\n",
       "      <td>usa</td>\n",
       "      <td>2 days left</td>\n",
       "    </tr>\n",
       "    <tr>\n",
       "      <th>1676</th>\n",
       "      <td>1676</td>\n",
       "      <td>23400</td>\n",
       "      <td>ford</td>\n",
       "      <td>fusion</td>\n",
       "      <td>2020</td>\n",
       "      <td>clean vehicle</td>\n",
       "      <td>2452.0</td>\n",
       "      <td>gray</td>\n",
       "      <td>3fa6p0hd6lr110753</td>\n",
       "      <td>167749593</td>\n",
       "      <td>michigan</td>\n",
       "      <td>usa</td>\n",
       "      <td>21 hours left</td>\n",
       "    </tr>\n",
       "    <tr>\n",
       "      <th>1701</th>\n",
       "      <td>1701</td>\n",
       "      <td>46900</td>\n",
       "      <td>ford</td>\n",
       "      <td>explorer</td>\n",
       "      <td>2020</td>\n",
       "      <td>clean vehicle</td>\n",
       "      <td>740.0</td>\n",
       "      <td>gray</td>\n",
       "      <td>1fmsk8fh3lga11841</td>\n",
       "      <td>167751303</td>\n",
       "      <td>virginia</td>\n",
       "      <td>usa</td>\n",
       "      <td>21 hours left</td>\n",
       "    </tr>\n",
       "    <tr>\n",
       "      <th>1704</th>\n",
       "      <td>1704</td>\n",
       "      <td>25200</td>\n",
       "      <td>ford</td>\n",
       "      <td>escape</td>\n",
       "      <td>2020</td>\n",
       "      <td>clean vehicle</td>\n",
       "      <td>7.0</td>\n",
       "      <td>black</td>\n",
       "      <td>1fmcu9f61lua48374</td>\n",
       "      <td>167751305</td>\n",
       "      <td>virginia</td>\n",
       "      <td>usa</td>\n",
       "      <td>21 hours left</td>\n",
       "    </tr>\n",
       "    <tr>\n",
       "      <th>1714</th>\n",
       "      <td>1714</td>\n",
       "      <td>43900</td>\n",
       "      <td>ford</td>\n",
       "      <td>explorer</td>\n",
       "      <td>2020</td>\n",
       "      <td>clean vehicle</td>\n",
       "      <td>2089.0</td>\n",
       "      <td>no_color</td>\n",
       "      <td>1fmsk7fh0lgb38489</td>\n",
       "      <td>167751362</td>\n",
       "      <td>south carolina</td>\n",
       "      <td>usa</td>\n",
       "      <td>21 hours left</td>\n",
       "    </tr>\n",
       "    <tr>\n",
       "      <th>2012</th>\n",
       "      <td>2012</td>\n",
       "      <td>35400</td>\n",
       "      <td>ford</td>\n",
       "      <td>ranger</td>\n",
       "      <td>2020</td>\n",
       "      <td>clean vehicle</td>\n",
       "      <td>671.0</td>\n",
       "      <td>blue</td>\n",
       "      <td>1fter4fh1lla02732</td>\n",
       "      <td>167759471</td>\n",
       "      <td>ohio</td>\n",
       "      <td>usa</td>\n",
       "      <td>21 hours left</td>\n",
       "    </tr>\n",
       "    <tr>\n",
       "      <th>2026</th>\n",
       "      <td>2026</td>\n",
       "      <td>15000</td>\n",
       "      <td>ford</td>\n",
       "      <td>fusion</td>\n",
       "      <td>2020</td>\n",
       "      <td>clean vehicle</td>\n",
       "      <td>11729.0</td>\n",
       "      <td>white</td>\n",
       "      <td>3fa6p0d92lr117801</td>\n",
       "      <td>167625047</td>\n",
       "      <td>illinois</td>\n",
       "      <td>usa</td>\n",
       "      <td>19 hours left</td>\n",
       "    </tr>\n",
       "    <tr>\n",
       "      <th>2088</th>\n",
       "      <td>2088</td>\n",
       "      <td>59900</td>\n",
       "      <td>ford</td>\n",
       "      <td>max</td>\n",
       "      <td>2020</td>\n",
       "      <td>clean vehicle</td>\n",
       "      <td>2162.0</td>\n",
       "      <td>no_color</td>\n",
       "      <td>1fmjk2at4lea11492</td>\n",
       "      <td>167762991</td>\n",
       "      <td>ohio</td>\n",
       "      <td>usa</td>\n",
       "      <td>21 hours left</td>\n",
       "    </tr>\n",
       "    <tr>\n",
       "      <th>2205</th>\n",
       "      <td>2205</td>\n",
       "      <td>14400</td>\n",
       "      <td>nissan</td>\n",
       "      <td>altima</td>\n",
       "      <td>2020</td>\n",
       "      <td>clean vehicle</td>\n",
       "      <td>10728.0</td>\n",
       "      <td>gray</td>\n",
       "      <td>1n4bl4bv5lc127707</td>\n",
       "      <td>167455277</td>\n",
       "      <td>arizona</td>\n",
       "      <td>usa</td>\n",
       "      <td>2 days left</td>\n",
       "    </tr>\n",
       "    <tr>\n",
       "      <th>2268</th>\n",
       "      <td>2268</td>\n",
       "      <td>25500</td>\n",
       "      <td>nissan</td>\n",
       "      <td>armada</td>\n",
       "      <td>2020</td>\n",
       "      <td>clean vehicle</td>\n",
       "      <td>10317.0</td>\n",
       "      <td>black</td>\n",
       "      <td>jn8ay2nc6l9615894</td>\n",
       "      <td>167722430</td>\n",
       "      <td>california</td>\n",
       "      <td>usa</td>\n",
       "      <td>1 days left</td>\n",
       "    </tr>\n",
       "    <tr>\n",
       "      <th>2270</th>\n",
       "      <td>2270</td>\n",
       "      <td>13900</td>\n",
       "      <td>nissan</td>\n",
       "      <td>altima</td>\n",
       "      <td>2020</td>\n",
       "      <td>clean vehicle</td>\n",
       "      <td>15160.0</td>\n",
       "      <td>black</td>\n",
       "      <td>1n4bl4bv4lc140657</td>\n",
       "      <td>167722431</td>\n",
       "      <td>california</td>\n",
       "      <td>usa</td>\n",
       "      <td>1 days left</td>\n",
       "    </tr>\n",
       "    <tr>\n",
       "      <th>2302</th>\n",
       "      <td>2302</td>\n",
       "      <td>21100</td>\n",
       "      <td>nissan</td>\n",
       "      <td>rogue</td>\n",
       "      <td>2020</td>\n",
       "      <td>clean vehicle</td>\n",
       "      <td>19597.0</td>\n",
       "      <td>silver</td>\n",
       "      <td>5n1at2mt6lc714032</td>\n",
       "      <td>167725016</td>\n",
       "      <td>south carolina</td>\n",
       "      <td>usa</td>\n",
       "      <td>21 hours left</td>\n",
       "    </tr>\n",
       "    <tr>\n",
       "      <th>2305</th>\n",
       "      <td>2305</td>\n",
       "      <td>14700</td>\n",
       "      <td>nissan</td>\n",
       "      <td>rogue</td>\n",
       "      <td>2020</td>\n",
       "      <td>clean vehicle</td>\n",
       "      <td>15387.0</td>\n",
       "      <td>gray</td>\n",
       "      <td>knmat2mv5lp500471</td>\n",
       "      <td>167743353</td>\n",
       "      <td>pennsylvania</td>\n",
       "      <td>usa</td>\n",
       "      <td>2 days left</td>\n",
       "    </tr>\n",
       "    <tr>\n",
       "      <th>2306</th>\n",
       "      <td>2306</td>\n",
       "      <td>19000</td>\n",
       "      <td>nissan</td>\n",
       "      <td>cargo</td>\n",
       "      <td>2020</td>\n",
       "      <td>clean vehicle</td>\n",
       "      <td>264.0</td>\n",
       "      <td>black</td>\n",
       "      <td>3n6cm0kn9lk693851</td>\n",
       "      <td>167129224</td>\n",
       "      <td>california</td>\n",
       "      <td>usa</td>\n",
       "      <td>7 hours left</td>\n",
       "    </tr>\n",
       "    <tr>\n",
       "      <th>2321</th>\n",
       "      <td>2321</td>\n",
       "      <td>12000</td>\n",
       "      <td>nissan</td>\n",
       "      <td>rogue</td>\n",
       "      <td>2020</td>\n",
       "      <td>clean vehicle</td>\n",
       "      <td>11583.0</td>\n",
       "      <td>blue</td>\n",
       "      <td>jn8at2mv7lw102351</td>\n",
       "      <td>167656206</td>\n",
       "      <td>ohio</td>\n",
       "      <td>usa</td>\n",
       "      <td>2 days left</td>\n",
       "    </tr>\n",
       "    <tr>\n",
       "      <th>2322</th>\n",
       "      <td>2322</td>\n",
       "      <td>15000</td>\n",
       "      <td>nissan</td>\n",
       "      <td>altima</td>\n",
       "      <td>2020</td>\n",
       "      <td>clean vehicle</td>\n",
       "      <td>14320.0</td>\n",
       "      <td>blue</td>\n",
       "      <td>1n4bl4cv4lc134145</td>\n",
       "      <td>167656212</td>\n",
       "      <td>ohio</td>\n",
       "      <td>usa</td>\n",
       "      <td>2 days left</td>\n",
       "    </tr>\n",
       "    <tr>\n",
       "      <th>2336</th>\n",
       "      <td>2336</td>\n",
       "      <td>19400</td>\n",
       "      <td>nissan</td>\n",
       "      <td>rogue</td>\n",
       "      <td>2020</td>\n",
       "      <td>clean vehicle</td>\n",
       "      <td>21009.0</td>\n",
       "      <td>black</td>\n",
       "      <td>knmat2mvxlp505598</td>\n",
       "      <td>167614823</td>\n",
       "      <td>minnesota</td>\n",
       "      <td>usa</td>\n",
       "      <td>14 hours left</td>\n",
       "    </tr>\n",
       "    <tr>\n",
       "      <th>2339</th>\n",
       "      <td>2339</td>\n",
       "      <td>19800</td>\n",
       "      <td>nissan</td>\n",
       "      <td>rogue</td>\n",
       "      <td>2020</td>\n",
       "      <td>clean vehicle</td>\n",
       "      <td>14850.0</td>\n",
       "      <td>silver</td>\n",
       "      <td>knmat2mv2lp511637</td>\n",
       "      <td>167614830</td>\n",
       "      <td>minnesota</td>\n",
       "      <td>usa</td>\n",
       "      <td>14 hours left</td>\n",
       "    </tr>\n",
       "    <tr>\n",
       "      <th>2341</th>\n",
       "      <td>2341</td>\n",
       "      <td>18000</td>\n",
       "      <td>nissan</td>\n",
       "      <td>rogue</td>\n",
       "      <td>2020</td>\n",
       "      <td>clean vehicle</td>\n",
       "      <td>12748.0</td>\n",
       "      <td>black</td>\n",
       "      <td>jn8at2mt4lw003761</td>\n",
       "      <td>167614833</td>\n",
       "      <td>minnesota</td>\n",
       "      <td>usa</td>\n",
       "      <td>14 hours left</td>\n",
       "    </tr>\n",
       "    <tr>\n",
       "      <th>2342</th>\n",
       "      <td>2342</td>\n",
       "      <td>19800</td>\n",
       "      <td>nissan</td>\n",
       "      <td>rogue</td>\n",
       "      <td>2020</td>\n",
       "      <td>clean vehicle</td>\n",
       "      <td>14531.0</td>\n",
       "      <td>blue</td>\n",
       "      <td>jn8at2mv1lw104855</td>\n",
       "      <td>167614835</td>\n",
       "      <td>minnesota</td>\n",
       "      <td>usa</td>\n",
       "      <td>14 hours left</td>\n",
       "    </tr>\n",
       "    <tr>\n",
       "      <th>2343</th>\n",
       "      <td>2343</td>\n",
       "      <td>19700</td>\n",
       "      <td>nissan</td>\n",
       "      <td>rogue</td>\n",
       "      <td>2020</td>\n",
       "      <td>clean vehicle</td>\n",
       "      <td>15931.0</td>\n",
       "      <td>black</td>\n",
       "      <td>knmat2mv1lp508342</td>\n",
       "      <td>167614836</td>\n",
       "      <td>minnesota</td>\n",
       "      <td>usa</td>\n",
       "      <td>14 hours left</td>\n",
       "    </tr>\n",
       "    <tr>\n",
       "      <th>2344</th>\n",
       "      <td>2344</td>\n",
       "      <td>20100</td>\n",
       "      <td>nissan</td>\n",
       "      <td>rogue</td>\n",
       "      <td>2020</td>\n",
       "      <td>clean vehicle</td>\n",
       "      <td>10875.0</td>\n",
       "      <td>blue</td>\n",
       "      <td>jn8at2mvxlw103235</td>\n",
       "      <td>167614842</td>\n",
       "      <td>minnesota</td>\n",
       "      <td>usa</td>\n",
       "      <td>14 hours left</td>\n",
       "    </tr>\n",
       "  </tbody>\n",
       "</table>\n",
       "</div>"
      ],
      "text/plain": [
       "      Unnamed: 0  price      brand     model  year       title_status  \\\n",
       "26            26  21500        kia   sorento  2020      clean vehicle   \n",
       "58            58  23000   chrysler  pacifica  2020      clean vehicle   \n",
       "206          206     25  chevrolet    vehicl  2020  salvage insurance   \n",
       "210          210  22500  chevrolet    camaro  2020      clean vehicle   \n",
       "213          213  15500  chevrolet      trax  2020      clean vehicle   \n",
       "216          216  45500  chevrolet     tahoe  2020      clean vehicle   \n",
       "219          219  45500  chevrolet     tahoe  2020      clean vehicle   \n",
       "222          222  16300  chevrolet      trax  2020      clean vehicle   \n",
       "225          225  45500  chevrolet     tahoe  2020      clean vehicle   \n",
       "399          399  61200        bmw    series  2020      clean vehicle   \n",
       "426          426  55600      lexus        gx  2020      clean vehicle   \n",
       "657          657  22000  chevrolet      trax  2020      clean vehicle   \n",
       "729          729  17300  chevrolet   equinox  2020      clean vehicle   \n",
       "730          730  30500  chevrolet  traverse  2020      clean vehicle   \n",
       "731          731  25000  chevrolet    impala  2020      clean vehicle   \n",
       "806          806  28300  chevrolet  colorado  2020      clean vehicle   \n",
       "1064        1064  15900      dodge   charger  2020      clean vehicle   \n",
       "1217        1217  32500       ford  explorer  2020      clean vehicle   \n",
       "1220        1220  18300       ford    fusion  2020      clean vehicle   \n",
       "1229        1229  14300       ford    fusion  2020      clean vehicle   \n",
       "1387        1387  16400       ford     f-150  2020      clean vehicle   \n",
       "1388        1388  17000       ford    fusion  2020      clean vehicle   \n",
       "1396        1396  18200       ford    fusion  2020      clean vehicle   \n",
       "1400        1400  26500       ford       van  2020      clean vehicle   \n",
       "1638        1638  20000       ford    fusion  2020      clean vehicle   \n",
       "1640        1640  27000       ford   mustang  2020      clean vehicle   \n",
       "1642        1642  20600       ford    fusion  2020      clean vehicle   \n",
       "1676        1676  23400       ford    fusion  2020      clean vehicle   \n",
       "1701        1701  46900       ford  explorer  2020      clean vehicle   \n",
       "1704        1704  25200       ford    escape  2020      clean vehicle   \n",
       "1714        1714  43900       ford  explorer  2020      clean vehicle   \n",
       "2012        2012  35400       ford    ranger  2020      clean vehicle   \n",
       "2026        2026  15000       ford    fusion  2020      clean vehicle   \n",
       "2088        2088  59900       ford       max  2020      clean vehicle   \n",
       "2205        2205  14400     nissan    altima  2020      clean vehicle   \n",
       "2268        2268  25500     nissan    armada  2020      clean vehicle   \n",
       "2270        2270  13900     nissan    altima  2020      clean vehicle   \n",
       "2302        2302  21100     nissan     rogue  2020      clean vehicle   \n",
       "2305        2305  14700     nissan     rogue  2020      clean vehicle   \n",
       "2306        2306  19000     nissan     cargo  2020      clean vehicle   \n",
       "2321        2321  12000     nissan     rogue  2020      clean vehicle   \n",
       "2322        2322  15000     nissan    altima  2020      clean vehicle   \n",
       "2336        2336  19400     nissan     rogue  2020      clean vehicle   \n",
       "2339        2339  19800     nissan     rogue  2020      clean vehicle   \n",
       "2341        2341  18000     nissan     rogue  2020      clean vehicle   \n",
       "2342        2342  19800     nissan     rogue  2020      clean vehicle   \n",
       "2343        2343  19700     nissan     rogue  2020      clean vehicle   \n",
       "2344        2344  20100     nissan     rogue  2020      clean vehicle   \n",
       "\n",
       "      mileage     color                  vin        lot           state  \\\n",
       "26    11451.0      blue    5xypg4a59lg616029  167801828  north carolina   \n",
       "58     2473.0     white    2c4rc1fg5lr143335  167656205            ohio   \n",
       "206    7232.0     black    2gnaxkev6l6128374  167756877        kentucky   \n",
       "210   13826.0     green    1g1fb1rx6l0109117  167765992         georgia   \n",
       "213   16545.0     white    3gncjlsb1ll142267  167765995         georgia   \n",
       "216   13303.0     white    1gnscbkc4lr164829  167765997         georgia   \n",
       "219   13679.0      gray    1gnscbkcxlr162857  167765999         georgia   \n",
       "222   18221.0     white    3gncjlsb4ll149763  167766003         georgia   \n",
       "225   13885.0     white    1gnscbkc6lr159535  167766009         georgia   \n",
       "399    7509.0     black    wba7t2c04lgl17687  167417053      california   \n",
       "426    8186.0    silver    jtjam7bx4l5251250  167605747         florida   \n",
       "657     179.0      gray    3gncjksbxll181398  167781406      california   \n",
       "729   15577.0     black    3gnaxkev2ll125886  167796069          nevada   \n",
       "730   23470.0    silver    1gnerhkw7lj115518  167796080          nevada   \n",
       "731   18715.0    silver    1g1105s31lu100901  167796081          nevada   \n",
       "806   13886.0    silver    1gcgtcen7l1101496  167805497         indiana   \n",
       "1064   5284.0    orange    2c3cdxbg6lh100855  167742943    pennsylvania   \n",
       "1217   5920.0    silver    1fmsk8dh2lga15480  167722215        missouri   \n",
       "1220  10882.0     white    3fa6p0d94lr133238  167722427      california   \n",
       "1229   6975.0    silver    3fa6p0d98lr117690  167722616      california   \n",
       "1387  10351.0     black    1ftew1e57lfa24246  167742924    pennsylvania   \n",
       "1388   1117.0      gray    3fa6p0d98lr194138  167742945    pennsylvania   \n",
       "1396   9861.0     black    3fa6p0k98lr118096  167743129    pennsylvania   \n",
       "1400    122.0     white    1ftbr1c86lka43630  167743139    pennsylvania   \n",
       "1638  23984.0    silver    3fa6p0cd0lr116667  167569992        virginia   \n",
       "1640  12748.0       red    1fatp8uh3l5101487  167569997        virginia   \n",
       "1642  17858.0     black    3fa6p0cd8lr115427  167570001        virginia   \n",
       "1676   2452.0      gray    3fa6p0hd6lr110753  167749593        michigan   \n",
       "1701    740.0      gray    1fmsk8fh3lga11841  167751303        virginia   \n",
       "1704      7.0     black    1fmcu9f61lua48374  167751305        virginia   \n",
       "1714   2089.0  no_color    1fmsk7fh0lgb38489  167751362  south carolina   \n",
       "2012    671.0      blue    1fter4fh1lla02732  167759471            ohio   \n",
       "2026  11729.0     white    3fa6p0d92lr117801  167625047        illinois   \n",
       "2088   2162.0  no_color    1fmjk2at4lea11492  167762991            ohio   \n",
       "2205  10728.0      gray    1n4bl4bv5lc127707  167455277         arizona   \n",
       "2268  10317.0     black    jn8ay2nc6l9615894  167722430      california   \n",
       "2270  15160.0     black    1n4bl4bv4lc140657  167722431      california   \n",
       "2302  19597.0    silver    5n1at2mt6lc714032  167725016  south carolina   \n",
       "2305  15387.0      gray    knmat2mv5lp500471  167743353    pennsylvania   \n",
       "2306    264.0     black    3n6cm0kn9lk693851  167129224      california   \n",
       "2321  11583.0      blue    jn8at2mv7lw102351  167656206            ohio   \n",
       "2322  14320.0      blue    1n4bl4cv4lc134145  167656212            ohio   \n",
       "2336  21009.0     black    knmat2mvxlp505598  167614823       minnesota   \n",
       "2339  14850.0    silver    knmat2mv2lp511637  167614830       minnesota   \n",
       "2341  12748.0     black    jn8at2mt4lw003761  167614833       minnesota   \n",
       "2342  14531.0      blue    jn8at2mv1lw104855  167614835       minnesota   \n",
       "2343  15931.0     black    knmat2mv1lp508342  167614836       minnesota   \n",
       "2344  10875.0      blue    jn8at2mvxlw103235  167614842       minnesota   \n",
       "\n",
       "     country      condition  \n",
       "26       usa    2 days left  \n",
       "58       usa    2 days left  \n",
       "206      usa    3 days left  \n",
       "210      usa    3 days left  \n",
       "213      usa    3 days left  \n",
       "216      usa    3 days left  \n",
       "219      usa    3 days left  \n",
       "222      usa    3 days left  \n",
       "225      usa    3 days left  \n",
       "399      usa    7 days left  \n",
       "426      usa    2 days left  \n",
       "657      usa  21 hours left  \n",
       "729      usa    2 days left  \n",
       "730      usa    2 days left  \n",
       "731      usa   6 hours left  \n",
       "806      usa    2 days left  \n",
       "1064     usa    2 days left  \n",
       "1217     usa  21 hours left  \n",
       "1220     usa    1 days left  \n",
       "1229     usa    1 days left  \n",
       "1387     usa    2 days left  \n",
       "1388     usa    2 days left  \n",
       "1396     usa    2 days left  \n",
       "1400     usa    2 days left  \n",
       "1638     usa    2 days left  \n",
       "1640     usa    2 days left  \n",
       "1642     usa    2 days left  \n",
       "1676     usa  21 hours left  \n",
       "1701     usa  21 hours left  \n",
       "1704     usa  21 hours left  \n",
       "1714     usa  21 hours left  \n",
       "2012     usa  21 hours left  \n",
       "2026     usa  19 hours left  \n",
       "2088     usa  21 hours left  \n",
       "2205     usa    2 days left  \n",
       "2268     usa    1 days left  \n",
       "2270     usa    1 days left  \n",
       "2302     usa  21 hours left  \n",
       "2305     usa    2 days left  \n",
       "2306     usa   7 hours left  \n",
       "2321     usa    2 days left  \n",
       "2322     usa    2 days left  \n",
       "2336     usa  14 hours left  \n",
       "2339     usa  14 hours left  \n",
       "2341     usa  14 hours left  \n",
       "2342     usa  14 hours left  \n",
       "2343     usa  14 hours left  \n",
       "2344     usa  14 hours left  "
      ]
     },
     "execution_count": 21,
     "metadata": {},
     "output_type": "execute_result"
    }
   ],
   "source": [
    "data[data['year']==2020]"
   ]
  },
  {
   "cell_type": "code",
   "execution_count": null,
   "id": "9f2e6dd0",
   "metadata": {},
   "outputs": [],
   "source": []
  },
  {
   "cell_type": "markdown",
   "id": "096ae84a",
   "metadata": {},
   "source": [
    "# cars sold in a timeline"
   ]
  },
  {
   "cell_type": "code",
   "execution_count": 191,
   "id": "4f62394a",
   "metadata": {},
   "outputs": [
    {
     "data": {
      "text/plain": [
       "2409"
      ]
     },
     "execution_count": 191,
     "metadata": {},
     "output_type": "execute_result"
    }
   ],
   "source": [
    "data[data['year']>=2010]['year'].count()"
   ]
  },
  {
   "cell_type": "code",
   "execution_count": null,
   "id": "d3701e6a",
   "metadata": {},
   "outputs": [],
   "source": []
  },
  {
   "cell_type": "markdown",
   "id": "f33eca23",
   "metadata": {},
   "source": [
    "# cars sold in specific year"
   ]
  },
  {
   "cell_type": "code",
   "execution_count": 33,
   "id": "29136c49",
   "metadata": {},
   "outputs": [
    {
     "data": {
      "text/plain": [
       "48"
      ]
     },
     "execution_count": 33,
     "metadata": {},
     "output_type": "execute_result"
    }
   ],
   "source": [
    "data[data['year']==2020]['year'].count()"
   ]
  },
  {
   "cell_type": "code",
   "execution_count": null,
   "id": "269b667a",
   "metadata": {},
   "outputs": [],
   "source": []
  },
  {
   "cell_type": "code",
   "execution_count": 34,
   "id": "5ffbb49a",
   "metadata": {},
   "outputs": [
    {
     "data": {
      "text/plain": [
       "8"
      ]
     },
     "execution_count": 34,
     "metadata": {},
     "output_type": "execute_result"
    }
   ],
   "source": [
    "data[data['year']==2006]['year'].count()"
   ]
  },
  {
   "cell_type": "code",
   "execution_count": null,
   "id": "5bfcdb54",
   "metadata": {},
   "outputs": [],
   "source": []
  },
  {
   "cell_type": "code",
   "execution_count": 35,
   "id": "0eb96dcc",
   "metadata": {},
   "outputs": [
    {
     "data": {
      "text/plain": [
       "395"
      ]
     },
     "execution_count": 35,
     "metadata": {},
     "output_type": "execute_result"
    }
   ],
   "source": [
    "data[data['year']==2018]['year'].count()"
   ]
  },
  {
   "cell_type": "markdown",
   "id": "a89f7f59",
   "metadata": {},
   "source": [
    "# Highest and lowest prices"
   ]
  },
  {
   "cell_type": "code",
   "execution_count": 25,
   "id": "dbbd62b7",
   "metadata": {},
   "outputs": [
    {
     "data": {
      "text/plain": [
       "0        43\n",
       "16500    26\n",
       "13900    21\n",
       "15500    19\n",
       "15000    19\n",
       "         ..\n",
       "12560     1\n",
       "11760     1\n",
       "7340      1\n",
       "6530      1\n",
       "30100     1\n",
       "Name: price, Length: 790, dtype: int64"
      ]
     },
     "execution_count": 25,
     "metadata": {},
     "output_type": "execute_result"
    }
   ],
   "source": [
    "data['price'].value_counts()"
   ]
  },
  {
   "cell_type": "code",
   "execution_count": 26,
   "id": "c2493f9f",
   "metadata": {},
   "outputs": [
    {
     "data": {
      "text/plain": [
       "84900"
      ]
     },
     "execution_count": 26,
     "metadata": {},
     "output_type": "execute_result"
    }
   ],
   "source": [
    "data['price'].max()"
   ]
  },
  {
   "cell_type": "code",
   "execution_count": 27,
   "id": "a9972d12",
   "metadata": {},
   "outputs": [
    {
     "data": {
      "text/plain": [
       "0"
      ]
     },
     "execution_count": 27,
     "metadata": {},
     "output_type": "execute_result"
    }
   ],
   "source": [
    "data['price'].min()"
   ]
  },
  {
   "cell_type": "code",
   "execution_count": 30,
   "id": "f8d1a02b",
   "metadata": {},
   "outputs": [
    {
     "data": {
      "text/plain": [
       "18767.671468587436"
      ]
     },
     "execution_count": 30,
     "metadata": {},
     "output_type": "execute_result"
    }
   ],
   "source": [
    "data['price'].mean()"
   ]
  },
  {
   "cell_type": "code",
   "execution_count": null,
   "id": "f2687f94",
   "metadata": {},
   "outputs": [],
   "source": []
  },
  {
   "cell_type": "markdown",
   "id": "9a8312f3",
   "metadata": {},
   "source": [
    "# highest and lowest price of cars of specific category"
   ]
  },
  {
   "cell_type": "code",
   "execution_count": 188,
   "id": "e293fa84",
   "metadata": {},
   "outputs": [
    {
     "data": {
      "text/html": [
       "<div>\n",
       "<style scoped>\n",
       "    .dataframe tbody tr th:only-of-type {\n",
       "        vertical-align: middle;\n",
       "    }\n",
       "\n",
       "    .dataframe tbody tr th {\n",
       "        vertical-align: top;\n",
       "    }\n",
       "\n",
       "    .dataframe thead th {\n",
       "        text-align: right;\n",
       "    }\n",
       "</style>\n",
       "<table border=\"1\" class=\"dataframe\">\n",
       "  <thead>\n",
       "    <tr style=\"text-align: right;\">\n",
       "      <th></th>\n",
       "      <th>model</th>\n",
       "      <th>price</th>\n",
       "    </tr>\n",
       "  </thead>\n",
       "  <tbody>\n",
       "    <tr>\n",
       "      <th>0</th>\n",
       "      <td>cruiser</td>\n",
       "      <td>6300</td>\n",
       "    </tr>\n",
       "  </tbody>\n",
       "</table>\n",
       "</div>"
      ],
      "text/plain": [
       "     model  price\n",
       "0  cruiser   6300"
      ]
     },
     "execution_count": 188,
     "metadata": {},
     "output_type": "execute_result"
    }
   ],
   "source": [
    "data[data['brand']=='toyota'][['model','price']].head(1) #only 1 car of this brand"
   ]
  },
  {
   "cell_type": "markdown",
   "id": "8adbbce4",
   "metadata": {},
   "source": [
    "# most expensive and least expensive gmc car"
   ]
  },
  {
   "cell_type": "code",
   "execution_count": 190,
   "id": "945724e9",
   "metadata": {},
   "outputs": [
    {
     "data": {
      "text/html": [
       "<div>\n",
       "<style scoped>\n",
       "    .dataframe tbody tr th:only-of-type {\n",
       "        vertical-align: middle;\n",
       "    }\n",
       "\n",
       "    .dataframe tbody tr th {\n",
       "        vertical-align: top;\n",
       "    }\n",
       "\n",
       "    .dataframe thead th {\n",
       "        text-align: right;\n",
       "    }\n",
       "</style>\n",
       "<table border=\"1\" class=\"dataframe\">\n",
       "  <thead>\n",
       "    <tr style=\"text-align: right;\">\n",
       "      <th></th>\n",
       "      <th>model</th>\n",
       "      <th>price</th>\n",
       "    </tr>\n",
       "  </thead>\n",
       "  <tbody>\n",
       "    <tr>\n",
       "      <th>483</th>\n",
       "      <td>1500</td>\n",
       "      <td>48500</td>\n",
       "    </tr>\n",
       "  </tbody>\n",
       "</table>\n",
       "</div>"
      ],
      "text/plain": [
       "    model  price\n",
       "483  1500  48500"
      ]
     },
     "execution_count": 190,
     "metadata": {},
     "output_type": "execute_result"
    }
   ],
   "source": [
    "data[data['brand']=='gmc'][['model','price']].sort_values(by='price',ascending=False).head(1) #most expensive"
   ]
  },
  {
   "cell_type": "code",
   "execution_count": 189,
   "id": "fdf92276",
   "metadata": {},
   "outputs": [
    {
     "data": {
      "text/html": [
       "<div>\n",
       "<style scoped>\n",
       "    .dataframe tbody tr th:only-of-type {\n",
       "        vertical-align: middle;\n",
       "    }\n",
       "\n",
       "    .dataframe tbody tr th {\n",
       "        vertical-align: top;\n",
       "    }\n",
       "\n",
       "    .dataframe thead th {\n",
       "        text-align: right;\n",
       "    }\n",
       "</style>\n",
       "<table border=\"1\" class=\"dataframe\">\n",
       "  <thead>\n",
       "    <tr style=\"text-align: right;\">\n",
       "      <th></th>\n",
       "      <th>model</th>\n",
       "      <th>price</th>\n",
       "    </tr>\n",
       "  </thead>\n",
       "  <tbody>\n",
       "    <tr>\n",
       "      <th>347</th>\n",
       "      <td>door</td>\n",
       "      <td>0</td>\n",
       "    </tr>\n",
       "  </tbody>\n",
       "</table>\n",
       "</div>"
      ],
      "text/plain": [
       "    model  price\n",
       "347  door      0"
      ]
     },
     "execution_count": 189,
     "metadata": {},
     "output_type": "execute_result"
    }
   ],
   "source": [
    "data[data['brand']=='gmc'][['model','price']].sort_values(by='price').head(1)      #least expensive"
   ]
  },
  {
   "cell_type": "markdown",
   "id": "17020fd0",
   "metadata": {},
   "source": [
    "# most expensive and least expensive ford car"
   ]
  },
  {
   "cell_type": "code",
   "execution_count": 185,
   "id": "3f86e163",
   "metadata": {},
   "outputs": [
    {
     "data": {
      "text/html": [
       "<div>\n",
       "<style scoped>\n",
       "    .dataframe tbody tr th:only-of-type {\n",
       "        vertical-align: middle;\n",
       "    }\n",
       "\n",
       "    .dataframe tbody tr th {\n",
       "        vertical-align: top;\n",
       "    }\n",
       "\n",
       "    .dataframe thead th {\n",
       "        text-align: right;\n",
       "    }\n",
       "</style>\n",
       "<table border=\"1\" class=\"dataframe\">\n",
       "  <thead>\n",
       "    <tr style=\"text-align: right;\">\n",
       "      <th></th>\n",
       "      <th>model</th>\n",
       "      <th>price</th>\n",
       "    </tr>\n",
       "  </thead>\n",
       "  <tbody>\n",
       "    <tr>\n",
       "      <th>1340</th>\n",
       "      <td>drw</td>\n",
       "      <td>74000</td>\n",
       "    </tr>\n",
       "  </tbody>\n",
       "</table>\n",
       "</div>"
      ],
      "text/plain": [
       "     model  price\n",
       "1340   drw  74000"
      ]
     },
     "execution_count": 185,
     "metadata": {},
     "output_type": "execute_result"
    }
   ],
   "source": [
    "data[data['brand']=='ford'][['model','price']].sort_values(by='price',ascending=False).head(1)     #most expensive"
   ]
  },
  {
   "cell_type": "code",
   "execution_count": 186,
   "id": "9c2ac65f",
   "metadata": {},
   "outputs": [
    {
     "data": {
      "text/html": [
       "<div>\n",
       "<style scoped>\n",
       "    .dataframe tbody tr th:only-of-type {\n",
       "        vertical-align: middle;\n",
       "    }\n",
       "\n",
       "    .dataframe tbody tr th {\n",
       "        vertical-align: top;\n",
       "    }\n",
       "\n",
       "    .dataframe thead th {\n",
       "        text-align: right;\n",
       "    }\n",
       "</style>\n",
       "<table border=\"1\" class=\"dataframe\">\n",
       "  <thead>\n",
       "    <tr style=\"text-align: right;\">\n",
       "      <th></th>\n",
       "      <th>model</th>\n",
       "      <th>price</th>\n",
       "    </tr>\n",
       "  </thead>\n",
       "  <tbody>\n",
       "    <tr>\n",
       "      <th>2375</th>\n",
       "      <td>xd</td>\n",
       "      <td>36300</td>\n",
       "    </tr>\n",
       "  </tbody>\n",
       "</table>\n",
       "</div>"
      ],
      "text/plain": [
       "     model  price\n",
       "2375    xd  36300"
      ]
     },
     "execution_count": 186,
     "metadata": {},
     "output_type": "execute_result"
    }
   ],
   "source": [
    "data[data['brand']=='nissan'][['model','price']].sort_values(by='price',ascending=False).head(1)      #least expensive"
   ]
  },
  {
   "cell_type": "code",
   "execution_count": 187,
   "id": "961557ca",
   "metadata": {},
   "outputs": [
    {
     "data": {
      "text/html": [
       "<div>\n",
       "<style scoped>\n",
       "    .dataframe tbody tr th:only-of-type {\n",
       "        vertical-align: middle;\n",
       "    }\n",
       "\n",
       "    .dataframe tbody tr th {\n",
       "        vertical-align: top;\n",
       "    }\n",
       "\n",
       "    .dataframe thead th {\n",
       "        text-align: right;\n",
       "    }\n",
       "</style>\n",
       "<table border=\"1\" class=\"dataframe\">\n",
       "  <thead>\n",
       "    <tr style=\"text-align: right;\">\n",
       "      <th></th>\n",
       "      <th>model</th>\n",
       "      <th>price</th>\n",
       "    </tr>\n",
       "  </thead>\n",
       "  <tbody>\n",
       "    <tr>\n",
       "      <th>277</th>\n",
       "      <td>challenger</td>\n",
       "      <td>67000</td>\n",
       "    </tr>\n",
       "  </tbody>\n",
       "</table>\n",
       "</div>"
      ],
      "text/plain": [
       "          model  price\n",
       "277  challenger  67000"
      ]
     },
     "execution_count": 187,
     "metadata": {},
     "output_type": "execute_result"
    }
   ],
   "source": [
    "data[data['brand']=='dodge'][['model','price']].sort_values(by='price',ascending=False).head(1)  #most expensive"
   ]
  },
  {
   "cell_type": "code",
   "execution_count": 89,
   "id": "c5ff1e62",
   "metadata": {},
   "outputs": [
    {
     "data": {
      "text/plain": [
       "34000"
      ]
     },
     "execution_count": 89,
     "metadata": {},
     "output_type": "execute_result"
    }
   ],
   "source": [
    "data[(data['brand']=='ford') & (data['model']=='wagon')]['price'].max()"
   ]
  },
  {
   "cell_type": "code",
   "execution_count": 91,
   "id": "286f4662",
   "metadata": {},
   "outputs": [
    {
     "data": {
      "text/plain": [
       "1340    drw\n",
       "Name: model, dtype: object"
      ]
     },
     "execution_count": 91,
     "metadata": {},
     "output_type": "execute_result"
    }
   ],
   "source": [
    "data[(data['brand']=='ford') & (data['price']==74000)]['model']"
   ]
  },
  {
   "cell_type": "code",
   "execution_count": 92,
   "id": "139e702c",
   "metadata": {},
   "outputs": [
    {
     "data": {
      "text/plain": [
       "84900"
      ]
     },
     "execution_count": 92,
     "metadata": {},
     "output_type": "execute_result"
    }
   ],
   "source": [
    "data['price'].max()"
   ]
  },
  {
   "cell_type": "code",
   "execution_count": 101,
   "id": "fd4c8828",
   "metadata": {},
   "outputs": [
    {
     "data": {
      "text/plain": [
       "srw            16\n",
       "door            8\n",
       "max             6\n",
       "f-150           4\n",
       "expedition      3\n",
       "challenger      2\n",
       "drw             2\n",
       "corvette        2\n",
       "charger         1\n",
       "durango         1\n",
       "sl-class        1\n",
       "m               1\n",
       "gx              1\n",
       "series          1\n",
       "road/street     1\n",
       "3500            1\n",
       "f-650           1\n",
       "Name: model, dtype: int64"
      ]
     },
     "execution_count": 101,
     "metadata": {},
     "output_type": "execute_result"
    }
   ],
   "source": [
    "data[data['price']>=50000]['model'].value_counts()"
   ]
  },
  {
   "cell_type": "code",
   "execution_count": null,
   "id": "2d73bebe",
   "metadata": {},
   "outputs": [],
   "source": []
  },
  {
   "cell_type": "markdown",
   "id": "787a05aa",
   "metadata": {},
   "source": [
    "# cars from different countries "
   ]
  },
  {
   "cell_type": "code",
   "execution_count": 103,
   "id": "f91796e4",
   "metadata": {},
   "outputs": [
    {
     "data": {
      "text/plain": [
       " usa       2492\n",
       " canada       7\n",
       "Name: country, dtype: int64"
      ]
     },
     "execution_count": 103,
     "metadata": {},
     "output_type": "execute_result"
    }
   ],
   "source": [
    "data['country'].value_counts()"
   ]
  },
  {
   "cell_type": "code",
   "execution_count": null,
   "id": "bd6e1fa5",
   "metadata": {},
   "outputs": [],
   "source": []
  },
  {
   "cell_type": "code",
   "execution_count": 114,
   "id": "4be779e4",
   "metadata": {},
   "outputs": [
    {
     "data": {
      "text/plain": [
       "277             dodge\n",
       "399               bmw\n",
       "502     mercedes-benz\n",
       "645         chevrolet\n",
       "667         chevrolet\n",
       "1215             ford\n",
       "1331             ford\n",
       "1334             ford\n",
       "1336             ford\n",
       "1340             ford\n",
       "1341             ford\n",
       "1342             ford\n",
       "1343             ford\n",
       "Name: brand, dtype: object"
      ]
     },
     "execution_count": 114,
     "metadata": {},
     "output_type": "execute_result"
    }
   ],
   "source": [
    "data[data['price']>=60000]['brand']"
   ]
  },
  {
   "cell_type": "markdown",
   "id": "960fafd5",
   "metadata": {},
   "source": [
    "# Number of cars that with different insurance"
   ]
  },
  {
   "cell_type": "code",
   "execution_count": 108,
   "id": "70d8a0f2",
   "metadata": {},
   "outputs": [
    {
     "data": {
      "text/plain": [
       "clean vehicle        2336\n",
       "salvage insurance     163\n",
       "Name: title_status, dtype: int64"
      ]
     },
     "execution_count": 108,
     "metadata": {},
     "output_type": "execute_result"
    }
   ],
   "source": [
    "data['title_status'].value_counts()"
   ]
  },
  {
   "cell_type": "code",
   "execution_count": null,
   "id": "88660d56",
   "metadata": {},
   "outputs": [],
   "source": []
  },
  {
   "cell_type": "markdown",
   "id": "4f0fe861",
   "metadata": {},
   "source": [
    "# Top 10 most expensive cars"
   ]
  },
  {
   "cell_type": "code",
   "execution_count": 126,
   "id": "d4b5216f",
   "metadata": {},
   "outputs": [
    {
     "data": {
      "text/html": [
       "<div>\n",
       "<style scoped>\n",
       "    .dataframe tbody tr th:only-of-type {\n",
       "        vertical-align: middle;\n",
       "    }\n",
       "\n",
       "    .dataframe tbody tr th {\n",
       "        vertical-align: top;\n",
       "    }\n",
       "\n",
       "    .dataframe thead th {\n",
       "        text-align: right;\n",
       "    }\n",
       "</style>\n",
       "<table border=\"1\" class=\"dataframe\">\n",
       "  <thead>\n",
       "    <tr style=\"text-align: right;\">\n",
       "      <th></th>\n",
       "      <th>brand</th>\n",
       "      <th>model</th>\n",
       "      <th>price</th>\n",
       "    </tr>\n",
       "  </thead>\n",
       "  <tbody>\n",
       "    <tr>\n",
       "      <th>502</th>\n",
       "      <td>mercedes-benz</td>\n",
       "      <td>sl-class</td>\n",
       "      <td>84900</td>\n",
       "    </tr>\n",
       "    <tr>\n",
       "      <th>1340</th>\n",
       "      <td>ford</td>\n",
       "      <td>drw</td>\n",
       "      <td>74000</td>\n",
       "    </tr>\n",
       "    <tr>\n",
       "      <th>1336</th>\n",
       "      <td>ford</td>\n",
       "      <td>drw</td>\n",
       "      <td>70000</td>\n",
       "    </tr>\n",
       "    <tr>\n",
       "      <th>277</th>\n",
       "      <td>dodge</td>\n",
       "      <td>challenger</td>\n",
       "      <td>67000</td>\n",
       "    </tr>\n",
       "    <tr>\n",
       "      <th>1215</th>\n",
       "      <td>ford</td>\n",
       "      <td>srw</td>\n",
       "      <td>65500</td>\n",
       "    </tr>\n",
       "    <tr>\n",
       "      <th>1331</th>\n",
       "      <td>ford</td>\n",
       "      <td>max</td>\n",
       "      <td>65200</td>\n",
       "    </tr>\n",
       "    <tr>\n",
       "      <th>667</th>\n",
       "      <td>chevrolet</td>\n",
       "      <td>corvette</td>\n",
       "      <td>63200</td>\n",
       "    </tr>\n",
       "    <tr>\n",
       "      <th>1334</th>\n",
       "      <td>ford</td>\n",
       "      <td>srw</td>\n",
       "      <td>63000</td>\n",
       "    </tr>\n",
       "    <tr>\n",
       "      <th>1343</th>\n",
       "      <td>ford</td>\n",
       "      <td>srw</td>\n",
       "      <td>63000</td>\n",
       "    </tr>\n",
       "    <tr>\n",
       "      <th>645</th>\n",
       "      <td>chevrolet</td>\n",
       "      <td>corvette</td>\n",
       "      <td>62000</td>\n",
       "    </tr>\n",
       "  </tbody>\n",
       "</table>\n",
       "</div>"
      ],
      "text/plain": [
       "              brand       model  price\n",
       "502   mercedes-benz    sl-class  84900\n",
       "1340           ford         drw  74000\n",
       "1336           ford         drw  70000\n",
       "277           dodge  challenger  67000\n",
       "1215           ford         srw  65500\n",
       "1331           ford         max  65200\n",
       "667       chevrolet    corvette  63200\n",
       "1334           ford         srw  63000\n",
       "1343           ford         srw  63000\n",
       "645       chevrolet    corvette  62000"
      ]
     },
     "execution_count": 126,
     "metadata": {},
     "output_type": "execute_result"
    }
   ],
   "source": [
    "data[data['price']>=60000][['brand','model','price']].sort_values(by='price',ascending=False).head(10)"
   ]
  },
  {
   "cell_type": "markdown",
   "id": "85e47e0e",
   "metadata": {},
   "source": [
    "# Top 10 Most popular brand "
   ]
  },
  {
   "cell_type": "code",
   "execution_count": 128,
   "id": "bf76e7e6",
   "metadata": {},
   "outputs": [
    {
     "data": {
      "text/plain": [
       "ford         1235\n",
       "dodge         432\n",
       "nissan        312\n",
       "chevrolet     297\n",
       "gmc            42\n",
       "jeep           30\n",
       "chrysler       18\n",
       "bmw            17\n",
       "hyundai        15\n",
       "kia            13\n",
       "Name: brand, dtype: int64"
      ]
     },
     "execution_count": 128,
     "metadata": {},
     "output_type": "execute_result"
    }
   ],
   "source": [
    "data['brand'].value_counts().head(10)"
   ]
  },
  {
   "cell_type": "code",
   "execution_count": 167,
   "id": "b902cc77",
   "metadata": {},
   "outputs": [
    {
     "data": {
      "text/plain": [
       "'ford'"
      ]
     },
     "execution_count": 167,
     "metadata": {},
     "output_type": "execute_result"
    }
   ],
   "source": [
    "data['brand'].value_counts().idxmax()  #most popular"
   ]
  },
  {
   "cell_type": "code",
   "execution_count": 168,
   "id": "b326df17",
   "metadata": {},
   "outputs": [
    {
     "data": {
      "text/plain": [
       "'maserati'"
      ]
     },
     "execution_count": 168,
     "metadata": {},
     "output_type": "execute_result"
    }
   ],
   "source": [
    "data['brand'].value_counts().idxmin() #least popular"
   ]
  },
  {
   "cell_type": "markdown",
   "id": "8f65e043",
   "metadata": {},
   "source": [
    "# Most popular  & least popular color of car"
   ]
  },
  {
   "cell_type": "code",
   "execution_count": 153,
   "id": "336f8c34",
   "metadata": {},
   "outputs": [
    {
     "data": {
      "text/plain": [
       "white                                      707\n",
       "black                                      516\n",
       "gray                                       395\n",
       "silver                                     300\n",
       "red                                        192\n",
       "blue                                       151\n",
       "no_color                                    61\n",
       "green                                       24\n",
       "orange                                      20\n",
       "gold                                        19\n",
       "charcoal                                    18\n",
       "brown                                       15\n",
       "yellow                                       9\n",
       "magnetic metallic                            6\n",
       "shadow black                                 5\n",
       "color:                                       5\n",
       "beige                                        5\n",
       "oxford white                                 4\n",
       "ingot silver metallic                        4\n",
       "super black                                  3\n",
       "billet silver metallic clearcoat             3\n",
       "triple yellow tri-coat                       3\n",
       "cayenne red                                  2\n",
       "white platinum tri-coat metallic             2\n",
       "off-white                                    2\n",
       "ruby red metallic tinted clearcoat           2\n",
       "tuxedo black metallic                        2\n",
       "black clearcoat                              2\n",
       "bright white clearcoat                       2\n",
       "morningsky blue                              1\n",
       "guard                                        1\n",
       "pearl white                                  1\n",
       "tan                                          1\n",
       "burgundy                                     1\n",
       "ingot silver                                 1\n",
       "lightning blue                               1\n",
       "jazz blue pearlcoat                          1\n",
       "kona blue metallic                           1\n",
       "royal crimson metallic tinted clearcoat      1\n",
       "ruby red                                     1\n",
       "competition orange                           1\n",
       "purple                                       1\n",
       "toreador red                                 1\n",
       "light blue                                   1\n",
       "phantom black                                1\n",
       "maroon                                       1\n",
       "dark blue                                    1\n",
       "turquoise                                    1\n",
       "glacier white                                1\n",
       "Name: color, dtype: int64"
      ]
     },
     "execution_count": 153,
     "metadata": {},
     "output_type": "execute_result"
    }
   ],
   "source": [
    "data['color'].value_counts()"
   ]
  },
  {
   "cell_type": "code",
   "execution_count": null,
   "id": "cb1060fb",
   "metadata": {},
   "outputs": [],
   "source": []
  },
  {
   "cell_type": "code",
   "execution_count": 162,
   "id": "89bb15f9",
   "metadata": {},
   "outputs": [
    {
     "data": {
      "text/plain": [
       "'white'"
      ]
     },
     "execution_count": 162,
     "metadata": {},
     "output_type": "execute_result"
    }
   ],
   "source": [
    "data['color'].value_counts().idxmax()"
   ]
  },
  {
   "cell_type": "code",
   "execution_count": 166,
   "id": "ee18e9ce",
   "metadata": {},
   "outputs": [
    {
     "data": {
      "text/plain": [
       "'morningsky blue'"
      ]
     },
     "execution_count": 166,
     "metadata": {},
     "output_type": "execute_result"
    }
   ],
   "source": [
    "data['color'].value_counts().idxmin()"
   ]
  },
  {
   "cell_type": "markdown",
   "id": "f6ac0215",
   "metadata": {},
   "source": [
    "# prices of cars from 2000 to 2020"
   ]
  },
  {
   "cell_type": "code",
   "execution_count": null,
   "id": "a026fe92",
   "metadata": {},
   "outputs": [],
   "source": []
  },
  {
   "cell_type": "code",
   "execution_count": 138,
   "id": "c1153b9f",
   "metadata": {},
   "outputs": [
    {
     "data": {
      "text/plain": [
       "0        6300\n",
       "1        2899\n",
       "2        5350\n",
       "3       25000\n",
       "4       27700\n",
       "        ...  \n",
       "2494     7800\n",
       "2495     9200\n",
       "2496     9200\n",
       "2497     9200\n",
       "2498     9200\n",
       "Name: price, Length: 2484, dtype: int64"
      ]
     },
     "execution_count": 138,
     "metadata": {},
     "output_type": "execute_result"
    }
   ],
   "source": [
    "data[data['year']>=2000]['price']"
   ]
  },
  {
   "cell_type": "code",
   "execution_count": null,
   "id": "de28da1f",
   "metadata": {},
   "outputs": [],
   "source": []
  },
  {
   "cell_type": "code",
   "execution_count": null,
   "id": "5a51bb7a",
   "metadata": {},
   "outputs": [],
   "source": []
  },
  {
   "cell_type": "markdown",
   "id": "572fecef",
   "metadata": {},
   "source": [
    "# average price of  a car"
   ]
  },
  {
   "cell_type": "code",
   "execution_count": 139,
   "id": "450ab90f",
   "metadata": {},
   "outputs": [
    {
     "data": {
      "text/plain": [
       "18767.671468587436"
      ]
     },
     "execution_count": 139,
     "metadata": {},
     "output_type": "execute_result"
    }
   ],
   "source": [
    "data['price'].mean()"
   ]
  },
  {
   "cell_type": "markdown",
   "id": "72d0fc0d",
   "metadata": {},
   "source": [
    "# average price of a car of particular brand"
   ]
  },
  {
   "cell_type": "code",
   "execution_count": 148,
   "id": "70239c00",
   "metadata": {},
   "outputs": [
    {
     "data": {
      "text/plain": [
       "brand\n",
       "harley-davidson    54680.000000\n",
       "lexus              33220.000000\n",
       "maserati           30300.000000\n",
       "land               28900.000000\n",
       "mercedes-benz      28704.000000\n",
       "bmw                26397.058824\n",
       "cadillac           24941.000000\n",
       "ford               21666.888259\n",
       "buick              19715.769231\n",
       "chevrolet          18669.952862\n",
       "lincoln            18150.000000\n",
       "dodge              17781.988426\n",
       "audi               13981.250000\n",
       "chrysler           13686.111111\n",
       "infiniti           13098.333333\n",
       "nissan             12065.820513\n",
       "kia                11123.846154\n",
       "ram                11050.000000\n",
       "jeep               10933.833333\n",
       "gmc                10657.380952\n",
       "mazda               8000.000000\n",
       "acura               7266.666667\n",
       "toyota              6300.000000\n",
       "honda               6127.500000\n",
       "hyundai             5203.200000\n",
       "heartland           2966.000000\n",
       "jaguar              2800.000000\n",
       "peterbilt            400.000000\n",
       "Name: price, dtype: float64"
      ]
     },
     "execution_count": 148,
     "metadata": {},
     "output_type": "execute_result"
    }
   ],
   "source": [
    "data.groupby('brand')['price'].mean().sort_values(ascending=False)"
   ]
  },
  {
   "cell_type": "code",
   "execution_count": null,
   "id": "30839be0",
   "metadata": {},
   "outputs": [],
   "source": []
  },
  {
   "cell_type": "markdown",
   "id": "baa30cc4",
   "metadata": {},
   "source": [
    "# number of car models in the dataset"
   ]
  },
  {
   "cell_type": "code",
   "execution_count": 152,
   "id": "24cecd73",
   "metadata": {},
   "outputs": [
    {
     "data": {
      "text/plain": [
       "127"
      ]
     },
     "execution_count": 152,
     "metadata": {},
     "output_type": "execute_result"
    }
   ],
   "source": [
    "data['model'].nunique()"
   ]
  },
  {
   "cell_type": "code",
   "execution_count": null,
   "id": "d2b80625",
   "metadata": {},
   "outputs": [],
   "source": []
  },
  {
   "cell_type": "code",
   "execution_count": null,
   "id": "8e2cde1f",
   "metadata": {},
   "outputs": [],
   "source": []
  }
 ],
 "metadata": {
  "kernelspec": {
   "display_name": "Python 3 (ipykernel)",
   "language": "python",
   "name": "python3"
  },
  "language_info": {
   "codemirror_mode": {
    "name": "ipython",
    "version": 3
   },
   "file_extension": ".py",
   "mimetype": "text/x-python",
   "name": "python",
   "nbconvert_exporter": "python",
   "pygments_lexer": "ipython3",
   "version": "3.9.12"
  }
 },
 "nbformat": 4,
 "nbformat_minor": 5
}
